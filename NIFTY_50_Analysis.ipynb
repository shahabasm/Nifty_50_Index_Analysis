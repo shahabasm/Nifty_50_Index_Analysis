{
 "cells": [
  {
   "cell_type": "markdown",
   "id": "7b0f5c73-b56f-4d2f-9a4b-666a1dd72099",
   "metadata": {
    "tags": []
   },
   "source": [
    "Required library imports"
   ]
  },
  {
   "cell_type": "code",
   "execution_count": 3,
   "id": "f7a5e45d-1f34-48bb-a8e7-a2535a70a736",
   "metadata": {},
   "outputs": [],
   "source": [
    "import pandas as pd\n",
    "import numpy as np\n",
    "import datetime\n",
    "import matplotlib.pyplot as plt\n",
    "import yfinance as yf"
   ]
  },
  {
   "cell_type": "markdown",
   "id": "ed199152-f8cf-40da-8661-67da8833c259",
   "metadata": {},
   "source": [
    "yfinance libary can be installed with command 'pip install yfinance'. library is to get real-time and historical data of index and stocks."
   ]
  },
  {
   "cell_type": "markdown",
   "id": "03cb4c37-ce9e-40e0-b42f-6050f244f672",
   "metadata": {},
   "source": [
    "downloading NIFTY 50 index data of past 5 years till now from yfinance."
   ]
  },
  {
   "cell_type": "code",
   "execution_count": 4,
   "id": "a09bac7d-9ce3-4c9f-8b44-723764a0fe25",
   "metadata": {},
   "outputs": [
    {
     "name": "stdout",
     "output_type": "stream",
     "text": [
      "[*********************100%***********************]  1 of 1 completed\n"
     ]
    }
   ],
   "source": [
    "ticker = \"^NSEI\"  #NIFTY 50 symbol\n",
    "end = datetime.date.today()  \n",
    "start = end - pd.Timedelta(days = 365*5)\n",
    "data = yf.download(ticker, start, end)"
   ]
  },
  {
   "cell_type": "markdown",
   "id": "8ee66845-a6d8-4b80-97ad-d44d709ffd9f",
   "metadata": {},
   "source": [
    "Exploration of downloaded data - its head, tail, statistical descriptions like mean, std"
   ]
  },
  {
   "cell_type": "code",
   "execution_count": 6,
   "id": "07dc6fe6-1af8-4148-84f8-b6cad2a892e0",
   "metadata": {},
   "outputs": [
    {
     "data": {
      "text/html": [
       "<div>\n",
       "<style scoped>\n",
       "    .dataframe tbody tr th:only-of-type {\n",
       "        vertical-align: middle;\n",
       "    }\n",
       "\n",
       "    .dataframe tbody tr th {\n",
       "        vertical-align: top;\n",
       "    }\n",
       "\n",
       "    .dataframe thead th {\n",
       "        text-align: right;\n",
       "    }\n",
       "</style>\n",
       "<table border=\"1\" class=\"dataframe\">\n",
       "  <thead>\n",
       "    <tr style=\"text-align: right;\">\n",
       "      <th></th>\n",
       "      <th>Open</th>\n",
       "      <th>High</th>\n",
       "      <th>Low</th>\n",
       "      <th>Close</th>\n",
       "      <th>Adj Close</th>\n",
       "      <th>Volume</th>\n",
       "    </tr>\n",
       "    <tr>\n",
       "      <th>Date</th>\n",
       "      <th></th>\n",
       "      <th></th>\n",
       "      <th></th>\n",
       "      <th></th>\n",
       "      <th></th>\n",
       "      <th></th>\n",
       "    </tr>\n",
       "  </thead>\n",
       "  <tbody>\n",
       "    <tr>\n",
       "      <th>2018-01-16</th>\n",
       "      <td>10761.500000</td>\n",
       "      <td>10762.349609</td>\n",
       "      <td>10687.849609</td>\n",
       "      <td>10700.450195</td>\n",
       "      <td>10700.450195</td>\n",
       "      <td>211000</td>\n",
       "    </tr>\n",
       "    <tr>\n",
       "      <th>2018-01-17</th>\n",
       "      <td>10702.450195</td>\n",
       "      <td>10803.000000</td>\n",
       "      <td>10666.750000</td>\n",
       "      <td>10788.549805</td>\n",
       "      <td>10788.549805</td>\n",
       "      <td>252700</td>\n",
       "    </tr>\n",
       "    <tr>\n",
       "      <th>2018-01-18</th>\n",
       "      <td>10873.400391</td>\n",
       "      <td>10887.500000</td>\n",
       "      <td>10782.400391</td>\n",
       "      <td>10817.000000</td>\n",
       "      <td>10817.000000</td>\n",
       "      <td>312000</td>\n",
       "    </tr>\n",
       "    <tr>\n",
       "      <th>2018-01-19</th>\n",
       "      <td>10829.200195</td>\n",
       "      <td>10906.849609</td>\n",
       "      <td>10793.900391</td>\n",
       "      <td>10894.700195</td>\n",
       "      <td>10894.700195</td>\n",
       "      <td>207600</td>\n",
       "    </tr>\n",
       "    <tr>\n",
       "      <th>2018-01-22</th>\n",
       "      <td>10883.200195</td>\n",
       "      <td>10975.099609</td>\n",
       "      <td>10881.400391</td>\n",
       "      <td>10966.200195</td>\n",
       "      <td>10966.200195</td>\n",
       "      <td>231600</td>\n",
       "    </tr>\n",
       "  </tbody>\n",
       "</table>\n",
       "</div>"
      ],
      "text/plain": [
       "                    Open          High           Low         Close  \\\n",
       "Date                                                                 \n",
       "2018-01-16  10761.500000  10762.349609  10687.849609  10700.450195   \n",
       "2018-01-17  10702.450195  10803.000000  10666.750000  10788.549805   \n",
       "2018-01-18  10873.400391  10887.500000  10782.400391  10817.000000   \n",
       "2018-01-19  10829.200195  10906.849609  10793.900391  10894.700195   \n",
       "2018-01-22  10883.200195  10975.099609  10881.400391  10966.200195   \n",
       "\n",
       "               Adj Close  Volume  \n",
       "Date                              \n",
       "2018-01-16  10700.450195  211000  \n",
       "2018-01-17  10788.549805  252700  \n",
       "2018-01-18  10817.000000  312000  \n",
       "2018-01-19  10894.700195  207600  \n",
       "2018-01-22  10966.200195  231600  "
      ]
     },
     "execution_count": 6,
     "metadata": {},
     "output_type": "execute_result"
    }
   ],
   "source": [
    "data.head()"
   ]
  },
  {
   "cell_type": "code",
   "execution_count": 7,
   "id": "d1b271b6-ed20-47a6-8fee-f2b55e7e85be",
   "metadata": {},
   "outputs": [
    {
     "data": {
      "text/html": [
       "<div>\n",
       "<style scoped>\n",
       "    .dataframe tbody tr th:only-of-type {\n",
       "        vertical-align: middle;\n",
       "    }\n",
       "\n",
       "    .dataframe tbody tr th {\n",
       "        vertical-align: top;\n",
       "    }\n",
       "\n",
       "    .dataframe thead th {\n",
       "        text-align: right;\n",
       "    }\n",
       "</style>\n",
       "<table border=\"1\" class=\"dataframe\">\n",
       "  <thead>\n",
       "    <tr style=\"text-align: right;\">\n",
       "      <th></th>\n",
       "      <th>Open</th>\n",
       "      <th>High</th>\n",
       "      <th>Low</th>\n",
       "      <th>Close</th>\n",
       "      <th>Adj Close</th>\n",
       "      <th>Volume</th>\n",
       "    </tr>\n",
       "    <tr>\n",
       "      <th>Date</th>\n",
       "      <th></th>\n",
       "      <th></th>\n",
       "      <th></th>\n",
       "      <th></th>\n",
       "      <th></th>\n",
       "      <th></th>\n",
       "    </tr>\n",
       "  </thead>\n",
       "  <tbody>\n",
       "    <tr>\n",
       "      <th>2023-01-09</th>\n",
       "      <td>17952.550781</td>\n",
       "      <td>18141.400391</td>\n",
       "      <td>17936.150391</td>\n",
       "      <td>18101.199219</td>\n",
       "      <td>18101.199219</td>\n",
       "      <td>257200</td>\n",
       "    </tr>\n",
       "    <tr>\n",
       "      <th>2023-01-10</th>\n",
       "      <td>18121.300781</td>\n",
       "      <td>18127.599609</td>\n",
       "      <td>17856.000000</td>\n",
       "      <td>17914.150391</td>\n",
       "      <td>17914.150391</td>\n",
       "      <td>283300</td>\n",
       "    </tr>\n",
       "    <tr>\n",
       "      <th>2023-01-11</th>\n",
       "      <td>17924.250000</td>\n",
       "      <td>17976.349609</td>\n",
       "      <td>17824.349609</td>\n",
       "      <td>17895.699219</td>\n",
       "      <td>17895.699219</td>\n",
       "      <td>259900</td>\n",
       "    </tr>\n",
       "    <tr>\n",
       "      <th>2023-01-12</th>\n",
       "      <td>17920.849609</td>\n",
       "      <td>17945.800781</td>\n",
       "      <td>17761.650391</td>\n",
       "      <td>17858.199219</td>\n",
       "      <td>17858.199219</td>\n",
       "      <td>227800</td>\n",
       "    </tr>\n",
       "    <tr>\n",
       "      <th>2023-01-13</th>\n",
       "      <td>17867.500000</td>\n",
       "      <td>17999.349609</td>\n",
       "      <td>17774.250000</td>\n",
       "      <td>17956.599609</td>\n",
       "      <td>17956.599609</td>\n",
       "      <td>256700</td>\n",
       "    </tr>\n",
       "  </tbody>\n",
       "</table>\n",
       "</div>"
      ],
      "text/plain": [
       "                    Open          High           Low         Close  \\\n",
       "Date                                                                 \n",
       "2023-01-09  17952.550781  18141.400391  17936.150391  18101.199219   \n",
       "2023-01-10  18121.300781  18127.599609  17856.000000  17914.150391   \n",
       "2023-01-11  17924.250000  17976.349609  17824.349609  17895.699219   \n",
       "2023-01-12  17920.849609  17945.800781  17761.650391  17858.199219   \n",
       "2023-01-13  17867.500000  17999.349609  17774.250000  17956.599609   \n",
       "\n",
       "               Adj Close  Volume  \n",
       "Date                              \n",
       "2023-01-09  18101.199219  257200  \n",
       "2023-01-10  17914.150391  283300  \n",
       "2023-01-11  17895.699219  259900  \n",
       "2023-01-12  17858.199219  227800  \n",
       "2023-01-13  17956.599609  256700  "
      ]
     },
     "execution_count": 7,
     "metadata": {},
     "output_type": "execute_result"
    }
   ],
   "source": [
    "data.tail()"
   ]
  },
  {
   "cell_type": "code",
   "execution_count": 9,
   "id": "9261bba7-cf19-45e6-864e-4335ececce3a",
   "metadata": {},
   "outputs": [
    {
     "name": "stdout",
     "output_type": "stream",
     "text": [
      "<class 'pandas.core.frame.DataFrame'>\n",
      "DatetimeIndex: 1232 entries, 2018-01-16 to 2023-01-13\n",
      "Data columns (total 6 columns):\n",
      " #   Column     Non-Null Count  Dtype  \n",
      "---  ------     --------------  -----  \n",
      " 0   Open       1232 non-null   float64\n",
      " 1   High       1232 non-null   float64\n",
      " 2   Low        1232 non-null   float64\n",
      " 3   Close      1232 non-null   float64\n",
      " 4   Adj Close  1232 non-null   float64\n",
      " 5   Volume     1232 non-null   int64  \n",
      "dtypes: float64(5), int64(1)\n",
      "memory usage: 67.4 KB\n"
     ]
    }
   ],
   "source": [
    "data.info()"
   ]
  },
  {
   "cell_type": "code",
   "execution_count": 10,
   "id": "a387f7c8-02c6-4793-8ca9-12c1c083de5b",
   "metadata": {},
   "outputs": [
    {
     "data": {
      "text/html": [
       "<div>\n",
       "<style scoped>\n",
       "    .dataframe tbody tr th:only-of-type {\n",
       "        vertical-align: middle;\n",
       "    }\n",
       "\n",
       "    .dataframe tbody tr th {\n",
       "        vertical-align: top;\n",
       "    }\n",
       "\n",
       "    .dataframe thead th {\n",
       "        text-align: right;\n",
       "    }\n",
       "</style>\n",
       "<table border=\"1\" class=\"dataframe\">\n",
       "  <thead>\n",
       "    <tr style=\"text-align: right;\">\n",
       "      <th></th>\n",
       "      <th>Open</th>\n",
       "      <th>High</th>\n",
       "      <th>Low</th>\n",
       "      <th>Close</th>\n",
       "      <th>Adj Close</th>\n",
       "      <th>Volume</th>\n",
       "    </tr>\n",
       "  </thead>\n",
       "  <tbody>\n",
       "    <tr>\n",
       "      <th>count</th>\n",
       "      <td>1232.000000</td>\n",
       "      <td>1232.000000</td>\n",
       "      <td>1232.000000</td>\n",
       "      <td>1232.000000</td>\n",
       "      <td>1232.000000</td>\n",
       "      <td>1.232000e+03</td>\n",
       "    </tr>\n",
       "    <tr>\n",
       "      <th>mean</th>\n",
       "      <td>13406.484463</td>\n",
       "      <td>13475.736606</td>\n",
       "      <td>13311.318820</td>\n",
       "      <td>13395.976096</td>\n",
       "      <td>13395.976096</td>\n",
       "      <td>4.180390e+05</td>\n",
       "    </tr>\n",
       "    <tr>\n",
       "      <th>std</th>\n",
       "      <td>2931.757661</td>\n",
       "      <td>2939.145916</td>\n",
       "      <td>2921.237919</td>\n",
       "      <td>2932.460329</td>\n",
       "      <td>2932.460329</td>\n",
       "      <td>2.214646e+05</td>\n",
       "    </tr>\n",
       "    <tr>\n",
       "      <th>min</th>\n",
       "      <td>7735.149902</td>\n",
       "      <td>8036.950195</td>\n",
       "      <td>7511.100098</td>\n",
       "      <td>7610.250000</td>\n",
       "      <td>7610.250000</td>\n",
       "      <td>0.000000e+00</td>\n",
       "    </tr>\n",
       "    <tr>\n",
       "      <th>25%</th>\n",
       "      <td>10930.850342</td>\n",
       "      <td>10984.725342</td>\n",
       "      <td>10849.962402</td>\n",
       "      <td>10929.300049</td>\n",
       "      <td>10929.300049</td>\n",
       "      <td>2.565000e+05</td>\n",
       "    </tr>\n",
       "    <tr>\n",
       "      <th>50%</th>\n",
       "      <td>11958.125000</td>\n",
       "      <td>12001.625000</td>\n",
       "      <td>11882.625000</td>\n",
       "      <td>11936.000000</td>\n",
       "      <td>11936.000000</td>\n",
       "      <td>3.525500e+05</td>\n",
       "    </tr>\n",
       "    <tr>\n",
       "      <th>75%</th>\n",
       "      <td>16320.437744</td>\n",
       "      <td>16427.538086</td>\n",
       "      <td>16222.287598</td>\n",
       "      <td>16347.124756</td>\n",
       "      <td>16347.124756</td>\n",
       "      <td>5.552000e+05</td>\n",
       "    </tr>\n",
       "    <tr>\n",
       "      <th>max</th>\n",
       "      <td>18871.949219</td>\n",
       "      <td>18887.599609</td>\n",
       "      <td>18778.199219</td>\n",
       "      <td>18812.500000</td>\n",
       "      <td>18812.500000</td>\n",
       "      <td>1.811000e+06</td>\n",
       "    </tr>\n",
       "  </tbody>\n",
       "</table>\n",
       "</div>"
      ],
      "text/plain": [
       "               Open          High           Low         Close     Adj Close  \\\n",
       "count   1232.000000   1232.000000   1232.000000   1232.000000   1232.000000   \n",
       "mean   13406.484463  13475.736606  13311.318820  13395.976096  13395.976096   \n",
       "std     2931.757661   2939.145916   2921.237919   2932.460329   2932.460329   \n",
       "min     7735.149902   8036.950195   7511.100098   7610.250000   7610.250000   \n",
       "25%    10930.850342  10984.725342  10849.962402  10929.300049  10929.300049   \n",
       "50%    11958.125000  12001.625000  11882.625000  11936.000000  11936.000000   \n",
       "75%    16320.437744  16427.538086  16222.287598  16347.124756  16347.124756   \n",
       "max    18871.949219  18887.599609  18778.199219  18812.500000  18812.500000   \n",
       "\n",
       "             Volume  \n",
       "count  1.232000e+03  \n",
       "mean   4.180390e+05  \n",
       "std    2.214646e+05  \n",
       "min    0.000000e+00  \n",
       "25%    2.565000e+05  \n",
       "50%    3.525500e+05  \n",
       "75%    5.552000e+05  \n",
       "max    1.811000e+06  "
      ]
     },
     "execution_count": 10,
     "metadata": {},
     "output_type": "execute_result"
    }
   ],
   "source": [
    "data.describe()"
   ]
  },
  {
   "cell_type": "markdown",
   "id": "ef5dbece-cbc5-404f-b5e0-04f9589dc04e",
   "metadata": {},
   "source": [
    "Visualizing the price data of index taking Adjascent close price in line chart using matplotlib library"
   ]
  },
  {
   "cell_type": "code",
   "execution_count": 15,
   "id": "623f1e75-3eef-4e23-b6c7-5a8d367bce0b",
   "metadata": {},
   "outputs": [
    {
     "data": {
      "image/png": "[encoded data removed]",
      "text/plain": [
       "<Figure size 1400x600 with 1 Axes>"
      ]
     },
     "metadata": {},
     "output_type": "display_data"
    }
   ],
   "source": [
    "plt.figure(figsize=(14,6))\n",
    "plt.plot(data['Adj Close'])\n",
    "plt.title(\"NIFTY 50\")\n",
    "plt.xlabel(\"Year\")\n",
    "plt.ylabel(\"Price in INR\")\n",
    "plt.grid()\n",
    "plt.show()"
   ]
  },
  {
   "cell_type": "markdown",
   "id": "ca5325dd-9c2c-46a8-b332-d25b085f3045",
   "metadata": {},
   "source": [
    "Checking the daily returns of NIFTY 50 that says if nifty today was closed this much percentage higher or lower than previous day and visualizing it then in histogram gives us an idea how volatile this index can be."
   ]
  },
  {
   "cell_type": "code",
   "execution_count": 16,
   "id": "d4675891-91fa-4760-b890-3e9f3a646686",
   "metadata": {},
   "outputs": [],
   "source": [
    "data['daily_returns'] = 100 * data['Adj Close'].pct_change()"
   ]
  },
  {
   "cell_type": "markdown",
   "id": "8425aff8-7414-42f5-bf37-88c9791b1645",
   "metadata": {},
   "source": [
    "Checking few rows with newly added daily returns column"
   ]
  },
  {
   "cell_type": "code",
   "execution_count": 17,
   "id": "4f618dd6-3b5e-4537-bad7-53214408ca7b",
   "metadata": {},
   "outputs": [
    {
     "data": {
      "text/html": [
       "<div>\n",
       "<style scoped>\n",
       "    .dataframe tbody tr th:only-of-type {\n",
       "        vertical-align: middle;\n",
       "    }\n",
       "\n",
       "    .dataframe tbody tr th {\n",
       "        vertical-align: top;\n",
       "    }\n",
       "\n",
       "    .dataframe thead th {\n",
       "        text-align: right;\n",
       "    }\n",
       "</style>\n",
       "<table border=\"1\" class=\"dataframe\">\n",
       "  <thead>\n",
       "    <tr style=\"text-align: right;\">\n",
       "      <th></th>\n",
       "      <th>Open</th>\n",
       "      <th>High</th>\n",
       "      <th>Low</th>\n",
       "      <th>Close</th>\n",
       "      <th>Adj Close</th>\n",
       "      <th>Volume</th>\n",
       "      <th>daily_returns</th>\n",
       "    </tr>\n",
       "    <tr>\n",
       "      <th>Date</th>\n",
       "      <th></th>\n",
       "      <th></th>\n",
       "      <th></th>\n",
       "      <th></th>\n",
       "      <th></th>\n",
       "      <th></th>\n",
       "      <th></th>\n",
       "    </tr>\n",
       "  </thead>\n",
       "  <tbody>\n",
       "    <tr>\n",
       "      <th>2023-01-09</th>\n",
       "      <td>17952.550781</td>\n",
       "      <td>18141.400391</td>\n",
       "      <td>17936.150391</td>\n",
       "      <td>18101.199219</td>\n",
       "      <td>18101.199219</td>\n",
       "      <td>257200</td>\n",
       "      <td>1.353625</td>\n",
       "    </tr>\n",
       "    <tr>\n",
       "      <th>2023-01-10</th>\n",
       "      <td>18121.300781</td>\n",
       "      <td>18127.599609</td>\n",
       "      <td>17856.000000</td>\n",
       "      <td>17914.150391</td>\n",
       "      <td>17914.150391</td>\n",
       "      <td>283300</td>\n",
       "      <td>-1.033350</td>\n",
       "    </tr>\n",
       "    <tr>\n",
       "      <th>2023-01-11</th>\n",
       "      <td>17924.250000</td>\n",
       "      <td>17976.349609</td>\n",
       "      <td>17824.349609</td>\n",
       "      <td>17895.699219</td>\n",
       "      <td>17895.699219</td>\n",
       "      <td>259900</td>\n",
       "      <td>-0.102998</td>\n",
       "    </tr>\n",
       "    <tr>\n",
       "      <th>2023-01-12</th>\n",
       "      <td>17920.849609</td>\n",
       "      <td>17945.800781</td>\n",
       "      <td>17761.650391</td>\n",
       "      <td>17858.199219</td>\n",
       "      <td>17858.199219</td>\n",
       "      <td>227800</td>\n",
       "      <td>-0.209548</td>\n",
       "    </tr>\n",
       "    <tr>\n",
       "      <th>2023-01-13</th>\n",
       "      <td>17867.500000</td>\n",
       "      <td>17999.349609</td>\n",
       "      <td>17774.250000</td>\n",
       "      <td>17956.599609</td>\n",
       "      <td>17956.599609</td>\n",
       "      <td>256700</td>\n",
       "      <td>0.551010</td>\n",
       "    </tr>\n",
       "  </tbody>\n",
       "</table>\n",
       "</div>"
      ],
      "text/plain": [
       "                    Open          High           Low         Close  \\\n",
       "Date                                                                 \n",
       "2023-01-09  17952.550781  18141.400391  17936.150391  18101.199219   \n",
       "2023-01-10  18121.300781  18127.599609  17856.000000  17914.150391   \n",
       "2023-01-11  17924.250000  17976.349609  17824.349609  17895.699219   \n",
       "2023-01-12  17920.849609  17945.800781  17761.650391  17858.199219   \n",
       "2023-01-13  17867.500000  17999.349609  17774.250000  17956.599609   \n",
       "\n",
       "               Adj Close  Volume  daily_returns  \n",
       "Date                                             \n",
       "2023-01-09  18101.199219  257200       1.353625  \n",
       "2023-01-10  17914.150391  283300      -1.033350  \n",
       "2023-01-11  17895.699219  259900      -0.102998  \n",
       "2023-01-12  17858.199219  227800      -0.209548  \n",
       "2023-01-13  17956.599609  256700       0.551010  "
      ]
     },
     "execution_count": 17,
     "metadata": {},
     "output_type": "execute_result"
    }
   ],
   "source": [
    "data.tail()"
   ]
  },
  {
   "cell_type": "markdown",
   "id": "cb1644ab-60de-4139-a67c-b0e15f715a2e",
   "metadata": {},
   "source": [
    "Histogram of 5 year closing prices' daily returns percentage"
   ]
  },
  {
   "cell_type": "code",
   "execution_count": 22,
   "id": "b1c6f919-b06a-44b0-9abc-12d7b0420991",
   "metadata": {},
   "outputs": [
    {
     "data": {
      "image/png": "[encoded data removed]",
      "text/plain": [
       "<Figure size 1200x500 with 1 Axes>"
      ]
     },
     "metadata": {},
     "output_type": "display_data"
    }
   ],
   "source": [
    "plt.figure(figsize=(12,5))\n",
    "plt.hist(data['daily_returns'], bins=20)\n",
    "plt.grid()\n",
    "plt.xlabel('Returns')\n",
    "plt.ylabel('Count')\n",
    "plt.title(\"Daily returns distribution of NIFTY 50\")\n",
    "plt.show()"
   ]
  },
  {
   "cell_type": "markdown",
   "id": "e1cb5b22-72c6-4ee2-92ae-387d285d54b2",
   "metadata": {},
   "source": [
    "#This says that most of the days in last 5 years, index closed with 0-1% higher or lower return than previous day"
   ]
  },
  {
   "cell_type": "code",
   "execution_count": null,
   "id": "8ec44cb3-f8f8-40fd-b036-48554c6e2f5b",
   "metadata": {},
   "outputs": [],
   "source": []
  }
 ],
 "metadata": {
  "kernelspec": {
   "display_name": "Python 3 (ipykernel)",
   "language": "python",
   "name": "python3"
  },
  "language_info": {
   "codemirror_mode": {
    "name": "ipython",
    "version": 3
   },
   "file_extension": ".py",
   "mimetype": "text/x-python",
   "name": "python",
   "nbconvert_exporter": "python",
   "pygments_lexer": "ipython3",
   "version": "3.9.13"
  }
 },
 "nbformat": 4,
 "nbformat_minor": 5
}
